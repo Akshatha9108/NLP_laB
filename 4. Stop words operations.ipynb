{
 "cells": [
  {
   "cell_type": "markdown",
   "id": "9ec53af4",
   "metadata": {},
   "source": [
    "## Perform following stop word operations on email dataset using Spacy, Gensim and NLTK libraries \n"
   ]
  },
  {
   "cell_type": "markdown",
   "id": "a9738acc",
   "metadata": {},
   "source": [
    "#### a. Display existing stop words in the default list\n",
    "#### b. Removing stop words from the default list\n",
    "#### c.adding stop words to the default list\n",
    "#### d. Apply stop word elimination to the email dataset\n"
   ]
  },
  {
   "cell_type": "code",
   "execution_count": 1,
   "id": "4880c0a3",
   "metadata": {},
   "outputs": [
    {
     "name": "stdout",
     "output_type": "stream",
     "text": [
      "                                                text spam\n",
      "0  Subject: naturally it's your irresistible your...    1\n",
      "1  Subject: the stock trading gunslinger  fanny i...    1\n",
      "2  Subject: unbelievable new homes made easy  im ...    1\n",
      "3  Subject: 4 color printing special  request add...    1\n",
      "4  Subject: do not have money , get software cds ...    1\n",
      "5  Subject: great nnews  hello , welcome to medzo...    1\n",
      "6  Subject: here ' s a hot play in motion  homela...    1\n",
      "7  Subject: save your money buy getting this thin...    1\n",
      "8  Subject: undeliverable : home based business f...    1\n",
      "9  Subject: save your money buy getting this thin...    1\n",
      "<class 'pandas.core.frame.DataFrame'>\n",
      "RangeIndex: 5730 entries, 0 to 5729\n",
      "Data columns (total 2 columns):\n",
      " #   Column  Non-Null Count  Dtype \n",
      "---  ------  --------------  ----- \n",
      " 0   text    5730 non-null   object\n",
      " 1   spam    5728 non-null   object\n",
      "dtypes: object(2)\n",
      "memory usage: 89.7+ KB\n",
      "None\n"
     ]
    }
   ],
   "source": [
    "import pandas as pd \n",
    "data=pd.read_csv('stopwordemails.csv', usecols=['text','spam'])\n",
    "print(data.head(10))\n",
    "print(data.info())"
   ]
  },
  {
   "cell_type": "code",
   "execution_count": 2,
   "id": "f4213efa",
   "metadata": {},
   "outputs": [],
   "source": [
    "import spacy\n",
    "nlp=spacy.load('en_core_web_sm')"
   ]
  },
  {
   "cell_type": "code",
   "execution_count": 3,
   "id": "1a711d8a",
   "metadata": {},
   "outputs": [
    {
     "name": "stdout",
     "output_type": "stream",
     "text": [
      "{'anything', 'themselves', 'might', '‘ve', 'this', 'how', 'out', 'keep', 'other', 'will', 'three', 'always', 'with', 'at', 'were', 'moreover', '’ve', 'therein', 'around', 'n‘t', 'elsewhere', \"'d\", 'becoming', 'some', 'neither', 'yourself', 'against', 'can', 'we', 'whether', 'whenever', 'any', 'being', 'however', 'before', 'whither', 'whereas', 'as', 'to', '’ll', 'thereupon', 'call', 'becomes', 'least', 'nevertheless', 'cannot', '‘ll', 'seem', 'perhaps', 'take', 'on', 'me', 'latter', 'nine', 'whatever', 'now', 'hereupon', 'using', 'forty', 'back', 'mine', 'may', 'via', 'full', 'him', 'she', 'must', 'sometime', 'serious', 'does', 'wherein', 'so', 'wherever', 'within', 'else', 'while', 'front', 'everywhere', 'enough', 'much', 'all', 'indeed', 'again', 'than', \"'m\", 'am', 'seems', 'once', 'should', 'into', 'used', 'which', 'for', 'empty', 'who', 'few', 'thru', 'anywhere', 'had', \"n't\", 'fifty', 'he', 'somehow', 'toward', 'a', 'several', 'still', 'ten', 'its', 'sometimes', 'rather', 'last', 'done', 'anyway', 'own', 'often', 'when', 'that', 'beside', 'would', 'beyond', 'here', 'many', \"'ll\", 'whoever', 'same', 'through', 'top', 'not', 'their', 'really', 'every', 'too', 'whose', 'various', 'sixty', 'yours', 'beforehand', 'doing', \"'re\", 'along', 'why', 'throughout', 'two', 'show', 'formerly', 'ours', 'whereafter', 'mostly', 'move', 'get', 'each', 'could', 'hereby', 'whereupon', 'thus', 'these', 'become', 'therefore', 'be', 'anyone', 'upon', 'one', '‘d', 'almost', 'unless', 'without', 'also', 'further', 'alone', 'hence', 'behind', 'has', 'yet', 'say', 'something', '’re', 'amount', 'five', 'just', 'above', 'my', 'regarding', 'even', 'where', 'by', 'itself', 'myself', 'whence', 'until', 'did', 'part', 'noone', 'you', 'nobody', 'became', 'amongst', 'well', 'under', 'nowhere', 'are', '‘re', 'because', 're', 'others', 'there', 'do', 'see', 'bottom', 'anyhow', 'they', 'seeming', 'or', 'though', 'of', 'please', 'and', 'together', 'them', 'go', 'twelve', 'your', 'n’t', 'i', 'below', 'four', 'down', 'towards', 'someone', 'most', 'except', 'off', 'onto', 'about', 'those', 'what', 'none', 'our', 'between', 'former', '’s', 'ca', 'after', 'eleven', 'otherwise', 'twenty', 'then', 'third', 'quite', 'first', 'per', 'latterly', 'afterwards', 'himself', 'herein', 'thence', 'made', 'it', 'make', 'namely', '‘s', 'hundred', 'eight', 'six', 'the', 'ourselves', '‘m', 'more', \"'s\", \"'ve\", 'everything', 'nothing', 'besides', 'meanwhile', 'in', 'whole', 'since', 'name', 'never', 'hers', 'across', 'but', 'among', 'although', 'thereby', 'give', 'been', 'us', 'fifteen', 'whereby', 'less', 'hereafter', 'very', 'an', 'put', 'his', 'whom', 'during', 'either', 'over', 'herself', 'ever', 'her', 'only', 'due', '’m', 'yourselves', 'from', 'nor', 'both', 'seemed', 'already', 'side', 'if', 'is', 'thereafter', 'no', '’d', 'somewhere', 'everyone', 'up', 'another', 'have', 'such', 'was', 'next'}\n"
     ]
    }
   ],
   "source": [
    "all_stopwords = nlp.Defaults.stop_words\n",
    "print(all_stopwords)"
   ]
  },
  {
   "cell_type": "markdown",
   "id": "c891164e",
   "metadata": {},
   "source": [
    "### b. removing stopwords "
   ]
  },
  {
   "cell_type": "code",
   "execution_count": 4,
   "id": "7b2f1f54",
   "metadata": {},
   "outputs": [
    {
     "name": "stdout",
     "output_type": "stream",
     "text": [
      "{'anything', 'themselves', 'might', '‘ve', 'this', 'how', 'out', 'keep', 'other', 'three', 'always', 'with', 'at', 'were', 'moreover', '’ve', 'therein', 'around', 'n‘t', 'elsewhere', \"'d\", 'becoming', 'some', 'neither', 'yourself', 'against', 'can', 'we', 'whether', 'whenever', 'any', 'being', 'however', 'before', 'whither', 'whereas', 'as', 'to', '’ll', 'thereupon', 'call', 'becomes', 'least', 'nevertheless', 'cannot', '‘ll', 'seem', 'perhaps', 'take', 'on', 'me', 'latter', 'nine', 'whatever', 'now', 'hereupon', 'using', 'forty', 'back', 'mine', 'may', 'via', 'full', 'him', 'she', 'must', 'sometime', 'serious', 'does', 'wherein', 'so', 'wherever', 'within', 'else', 'while', 'front', 'everywhere', 'enough', 'much', 'all', 'indeed', 'again', 'than', \"'m\", 'am', 'seems', 'once', 'should', 'into', 'used', 'which', 'for', 'empty', 'who', 'few', 'thru', 'anywhere', 'had', \"n't\", 'fifty', 'he', 'somehow', 'toward', 'a', 'several', 'still', 'ten', 'its', 'sometimes', 'rather', 'last', 'done', 'anyway', 'own', 'often', 'when', 'that', 'beside', 'would', 'beyond', 'here', 'many', \"'ll\", 'whoever', 'same', 'through', 'top', 'not', 'their', 'really', 'every', 'too', 'whose', 'various', 'sixty', 'yours', 'beforehand', 'doing', \"'re\", 'along', 'why', 'throughout', 'two', 'show', 'formerly', 'ours', 'whereafter', 'mostly', 'move', 'get', 'each', 'could', 'hereby', 'whereupon', 'thus', 'these', 'become', 'therefore', 'be', 'anyone', 'upon', 'one', '‘d', 'almost', 'unless', 'without', 'also', 'further', 'alone', 'hence', 'behind', 'has', 'yet', 'say', 'something', '’re', 'amount', 'five', 'just', 'above', 'my', 'regarding', 'even', 'where', 'by', 'itself', 'myself', 'whence', 'until', 'did', 'part', 'noone', 'you', 'nobody', 'became', 'amongst', 'well', 'under', 'nowhere', 'are', '‘re', 'because', 're', 'others', 'there', 'do', 'see', 'bottom', 'anyhow', 'they', 'seeming', 'or', 'though', 'of', 'please', 'and', 'together', 'them', 'go', 'twelve', 'your', 'n’t', 'i', 'below', 'four', 'down', 'towards', 'someone', 'most', 'except', 'off', 'onto', 'about', 'those', 'what', 'none', 'our', 'between', 'former', '’s', 'ca', 'after', 'eleven', 'otherwise', 'twenty', 'then', 'third', 'quite', 'first', 'per', 'latterly', 'afterwards', 'himself', 'herein', 'thence', 'made', 'it', 'make', 'namely', '‘s', 'hundred', 'eight', 'six', 'the', 'ourselves', '‘m', 'more', \"'s\", \"'ve\", 'everything', 'nothing', 'besides', 'meanwhile', 'in', 'whole', 'since', 'name', 'never', 'hers', 'across', 'but', 'among', 'although', 'thereby', 'give', 'been', 'us', 'fifteen', 'whereby', 'less', 'hereafter', 'very', 'an', 'put', 'his', 'whom', 'during', 'either', 'over', 'herself', 'ever', 'her', 'only', 'due', '’m', 'yourselves', 'from', 'nor', 'both', 'seemed', 'already', 'side', 'if', 'is', 'thereafter', 'no', '’d', 'somewhere', 'everyone', 'up', 'another', 'have', 'such', 'was', 'next'}\n"
     ]
    }
   ],
   "source": [
    "all_stopwords.remove('will')\n",
    "print(all_stopwords)"
   ]
  },
  {
   "cell_type": "markdown",
   "id": "4fe46ba0",
   "metadata": {},
   "source": [
    "### c. add stopwords "
   ]
  },
  {
   "cell_type": "code",
   "execution_count": 5,
   "id": "b8babf21",
   "metadata": {},
   "outputs": [
    {
     "name": "stdout",
     "output_type": "stream",
     "text": [
      "{'anything', 'themselves', 'might', '‘ve', 'this', 'how', 'out', 'keep', 'other', 'three', 'always', 'with', 'at', 'were', 'moreover', '’ve', 'therein', 'around', 'n‘t', 'elsewhere', \"'d\", 'becoming', 'some', 'neither', 'yourself', 'against', 'can', 'we', 'whether', 'whenever', 'any', 'being', 'however', 'before', 'whither', 'whereas', 'as', 'to', '’ll', 'thereupon', 'call', 'becomes', 'least', 'nevertheless', 'cannot', '‘ll', 'seem', 'perhaps', 'take', 'on', 'me', 'latter', 'nine', 'whatever', 'now', 'hereupon', 'using', 'forty', 'back', 'mine', 'may', 'via', 'full', 'him', 'she', 'must', 'sometime', 'serious', 'does', 'wherein', 'so', 'wherever', 'within', 'else', 'while', 'front', 'everywhere', 'enough', 'much', 'all', 'indeed', 'again', 'than', \"'m\", 'am', 'seems', 'once', 'should', 'into', 'used', 'which', 'for', 'empty', 'who', 'few', 'thru', 'anywhere', 'had', \"n't\", 'fifty', 'he', 'somehow', 'toward', 'a', 'several', 'still', 'company', 'ten', 'its', 'sometimes', 'rather', 'last', 'done', 'anyway', 'own', 'often', 'when', 'that', 'beside', 'would', 'beyond', 'here', 'many', \"'ll\", 'whoever', 'same', 'through', 'top', 'not', 'their', 'really', 'every', 'too', 'whose', 'various', 'sixty', 'yours', 'beforehand', 'doing', \"'re\", 'along', 'why', 'throughout', 'two', 'show', 'formerly', 'ours', 'whereafter', 'mostly', 'move', 'get', 'each', 'could', 'hereby', 'whereupon', 'thus', 'these', 'become', 'therefore', 'be', 'anyone', 'upon', 'one', '‘d', 'almost', 'unless', 'without', 'also', 'further', 'alone', 'hence', 'behind', 'has', 'yet', 'say', 'something', '’re', 'amount', 'five', 'just', 'above', 'my', 'regarding', 'even', 'where', 'by', 'itself', 'myself', 'whence', 'until', 'did', 'part', 'noone', 'you', 'nobody', 'became', 'amongst', 'well', 'under', 'nowhere', 'are', '‘re', 'because', 're', 'others', 'there', 'do', 'naturally', 'see', 'bottom', 'anyhow', 'they', 'seeming', 'or', 'though', 'of', 'please', 'and', 'together', 'them', 'go', 'twelve', 'your', 'n’t', 'i', 'below', 'four', 'down', 'towards', 'someone', 'most', 'except', 'off', 'onto', 'about', 'those', 'what', 'none', 'our', 'between', 'former', '’s', 'ca', 'after', 'eleven', 'otherwise', 'twenty', 'then', 'third', 'quite', 'first', 'per', 'latterly', 'afterwards', 'himself', 'herein', 'thence', 'made', 'it', 'make', 'namely', '‘s', 'hundred', 'eight', 'six', 'the', 'ourselves', '‘m', 'more', \"'s\", \"'ve\", 'everything', 'nothing', 'besides', 'meanwhile', 'in', 'whole', 'since', 'name', 'never', 'hers', 'across', 'but', 'among', 'although', 'thereby', 'give', 'been', 'us', 'fifteen', 'whereby', 'less', 'hereafter', 'very', 'an', 'put', 'his', 'whom', 'during', 'either', 'over', 'herself', 'ever', 'her', 'only', 'due', '’m', 'yourselves', 'from', 'nor', 'both', 'seemed', 'already', 'side', 'if', 'is', 'thereafter', 'no', '’d', 'somewhere', 'everyone', 'up', 'another', 'have', 'such', 'was', 'next'}\n"
     ]
    }
   ],
   "source": [
    "nlp.Defaults.stop_words.add('naturally')\n",
    "nlp.Defaults.stop_words.add('company')\n",
    "print(all_stopwords)"
   ]
  },
  {
   "cell_type": "markdown",
   "id": "0441806c",
   "metadata": {},
   "source": [
    "### d. stopword elimination "
   ]
  },
  {
   "cell_type": "code",
   "execution_count": 6,
   "id": "534666eb",
   "metadata": {},
   "outputs": [
    {
     "data": {
      "text/plain": [
       "\"Subject: naturally it's your irresistible your corporate identity  lt is really hard to recollect a company : the  market is full of suqgestions and the information isoverwhelminq ; but a good  catchy logo , stylish statlonery and outstanding website  will make the task much easier .  we don't promise that havinq ordered a iogo your  company will automaticaily become a world ieader : it isguite ciear that  without good products , effective business organization and practicable aim it  will be hotat nowadays market ; but we do promise that your marketing efforts  will become much more effective . here is the list of clear  benefits : creativeness : hand - made , original logos , specially done  to reflect your distinctive company image . convenience : logo and stationery  are provided in all formats ; easy - to - use content management system letsyou  change your website content and even its structure . promptness : you'll see logo drafts within three business days . affordability : your  marketing break - through shouldn't make gaps in your budget . 100 % satisfaction  guaranteed : we provide unlimited amount of changes with no extra fees for you to  be surethat you will love the result of this collaboration . have a look at our  portfolio _ _ _ _ _ _ _ _ _ _ _ _ _ _ _ _ _ _ _ _ _ _ _ _ _ _ _ _ _ _ _ _ _ _ _ _ _ _ _ _ _ _ _ _ _ _ _ _ _ _ _ _ not interested . . . _ _ _ _ _ _ _ _ _ _ _ _ _ _ _ _ _ _ _ _ _ _ _ _ _ _ _ _ _ _ _ _ _ _ _ _ _ _ _ _ _ _ _ _ _ _ _ _ _ _ _ _\""
      ]
     },
     "execution_count": 6,
     "metadata": {},
     "output_type": "execute_result"
    }
   ],
   "source": [
    "Text=data['text'][0]\n",
    "Text"
   ]
  },
  {
   "cell_type": "code",
   "execution_count": 7,
   "id": "03befaf6",
   "metadata": {},
   "outputs": [
    {
     "name": "stdout",
     "output_type": "stream",
     "text": [
      "Subject: naturally it's your irresistible your corporate identity  lt is really hard to recollect a company : the  market is full of suqgestions and the information isoverwhelminq ; but a good  catchy logo , stylish statlonery and outstanding website  will make the task much easier .  we don't promise that havinq ordered a iogo your  company will automaticaily become a world ieader : it isguite ciear that  without good products , effective business organization and practicable aim it  will be hotat nowadays market ; but we do promise that your marketing efforts  will become much more effective . here is the list of clear  benefits : creativeness : hand - made , original logos , specially done  to reflect your distinctive company image . convenience : logo and stationery  are provided in all formats ; easy - to - use content management system letsyou  change your website content and even its structure . promptness : you'll see logo drafts within three business days . affordability : your  marketing break - through shouldn't make gaps in your budget . 100 % satisfaction  guaranteed : we provide unlimited amount of changes with no extra fees for you to  be surethat you will love the result of this collaboration . have a look at our  portfolio _ _ _ _ _ _ _ _ _ _ _ _ _ _ _ _ _ _ _ _ _ _ _ _ _ _ _ _ _ _ _ _ _ _ _ _ _ _ _ _ _ _ _ _ _ _ _ _ _ _ _ _ not interested . . . _ _ _ _ _ _ _ _ _ _ _ _ _ _ _ _ _ _ _ _ _ _ _ _ _ _ _ _ _ _ _ _ _ _ _ _ _ _ _ _ _ _ _ _ _ _ _ _ _ _ _ _\n"
     ]
    }
   ],
   "source": [
    "doc=nlp(Text)\n",
    "text = [i.text for i in doc if i.text not in all_stopwords]\n",
    "print(Text)"
   ]
  },
  {
   "cell_type": "markdown",
   "id": "8368251b",
   "metadata": {},
   "source": [
    "## Stopword using gensim "
   ]
  },
  {
   "cell_type": "code",
   "execution_count": 8,
   "id": "3a523986",
   "metadata": {},
   "outputs": [
    {
     "name": "stdout",
     "output_type": "stream",
     "text": [
      "Defaulting to user installation because normal site-packages is not writeable\n",
      "Requirement already satisfied: gensim in /home/student/.local/lib/python3.10/site-packages (4.3.2)\n",
      "Requirement already satisfied: numpy>=1.18.5 in /home/student/.local/lib/python3.10/site-packages (from gensim) (1.26.3)\n",
      "Requirement already satisfied: scipy>=1.7.0 in /usr/lib/python3/dist-packages (from gensim) (1.8.0)\n",
      "Requirement already satisfied: smart-open>=1.8.1 in /home/student/.local/lib/python3.10/site-packages (from gensim) (6.4.0)\n"
     ]
    }
   ],
   "source": [
    "!pip install gensim"
   ]
  },
  {
   "cell_type": "code",
   "execution_count": 9,
   "id": "e367bc0f",
   "metadata": {},
   "outputs": [
    {
     "name": "stderr",
     "output_type": "stream",
     "text": [
      "/usr/lib/python3/dist-packages/scipy/__init__.py:146: UserWarning: A NumPy version >=1.17.3 and <1.25.0 is required for this version of SciPy (detected version 1.26.3\n",
      "  warnings.warn(f\"A NumPy version >={np_minversion} and <{np_maxversion}\"\n"
     ]
    }
   ],
   "source": [
    "import gensim"
   ]
  },
  {
   "cell_type": "code",
   "execution_count": 10,
   "id": "10aa549b",
   "metadata": {},
   "outputs": [],
   "source": [
    "all_stopwords=gensim.parsing.preprocessing.STOPWORDS"
   ]
  },
  {
   "cell_type": "code",
   "execution_count": 11,
   "id": "10f60a39",
   "metadata": {},
   "outputs": [
    {
     "name": "stdout",
     "output_type": "stream",
     "text": [
      "frozenset({'sincere', 'anything', 'themselves', 'might', 'this', 'how', 'out', 'keep', 'will', 'other', 'three', 'always', 'with', 'at', 'were', 'moreover', 'therein', 'around', 'elsewhere', 'some', 'becoming', 'neither', 'yourself', 'against', 'de', 'co', 'can', 'we', 'whether', 'detail', 'whenever', 'any', 'hasnt', 'being', 'however', 'before', 'whither', 'whereas', 'as', 'to', 'thereupon', 'call', 'becomes', 'least', 'find', 'nevertheless', 'cannot', 'seem', 'perhaps', 'take', 'con', 'on', 'me', 'latter', 'nine', 'whatever', 'now', 'hereupon', 'using', 'forty', 'back', 'mine', 'via', 'may', 'full', 'him', 'she', 'must', 'sometime', 'serious', 'does', 'wherein', 'wherever', 'so', 'within', 'else', 'while', 'front', 'ltd', 'everywhere', 'thin', 'enough', 'much', 'doesn', 'all', 'indeed', 'again', 'than', 'am', 'seems', 'once', 'should', 'into', 'used', 'which', 'for', 'empty', 'who', 'few', 'thru', 'anywhere', 'had', 'fifty', 'he', 'somehow', 'toward', 'a', 'several', 'still', 'ten', 'found', 'its', 'sometimes', 'rather', 'last', 'done', 'anyway', 'own', 'often', 'didn', 'when', 'that', 'beside', 'would', 'beyond', 'here', 'many', 'whoever', 'same', 'through', 'top', 'not', 'their', 'system', 'really', 'every', 'too', 'whose', 'various', 'sixty', 'yours', 'beforehand', 'doing', 'along', 'why', 'throughout', 'fire', 'two', 'etc', 'show', 'cry', 'formerly', 'ours', 'whereafter', 'mostly', 'move', 'get', 'each', 'could', 'interest', 'hereby', 'cant', 'whereupon', 'thus', 'these', 'become', 'therefore', 'be', 'anyone', 'upon', 'one', 'don', 'almost', 'unless', 'without', 'also', 'further', 'alone', 'hence', 'behind', 'has', 'yet', 'say', 'something', 'amount', 'five', 'just', 'my', 'regarding', 'above', 'even', 'computer', 'where', 'by', 'itself', 'myself', 'whence', 'inc', 'until', 'did', 'eg', 'part', 'you', 'noone', 'nobody', 'became', 'amongst', 'well', 'under', 'nowhere', 'are', 'because', 're', 'km', 'others', 'there', 'do', 'see', 'bottom', 'anyhow', 'they', 'seeming', 'or', 'though', 'please', 'of', 'and', 'together', 'them', 'bill', 'go', 'twelve', 'your', 'i', 'mill', 'four', 'below', 'down', 'towards', 'someone', 'most', 'thick', 'except', 'off', 'onto', 'about', 'those', 'ie', 'what', 'none', 'our', 'between', 'former', 'un', 'after', 'eleven', 'couldnt', 'otherwise', 'twenty', 'then', 'third', 'quite', 'first', 'per', 'latterly', 'afterwards', 'himself', 'herein', 'thence', 'made', 'it', 'make', 'namely', 'hundred', 'eight', 'six', 'the', 'ourselves', 'more', 'everything', 'nothing', 'besides', 'meanwhile', 'in', 'whole', 'since', 'name', 'never', 'hers', 'across', 'but', 'among', 'although', 'thereby', 'give', 'been', 'us', 'fifteen', 'whereby', 'less', 'hereafter', 'very', 'an', 'kg', 'put', 'his', 'whom', 'during', 'either', 'fill', 'over', 'herself', 'ever', 'her', 'only', 'describe', 'due', 'yourselves', 'from', 'nor', 'both', 'seemed', 'side', 'already', 'if', 'amoungst', 'is', 'thereafter', 'no', 'somewhere', 'everyone', 'up', 'another', 'have', 'such', 'was', 'next'})\n"
     ]
    }
   ],
   "source": [
    "print(all_stopwords)"
   ]
  },
  {
   "cell_type": "markdown",
   "id": "2f24f9a8",
   "metadata": {},
   "source": [
    "### adding stopwords using gensim "
   ]
  },
  {
   "cell_type": "code",
   "execution_count": 12,
   "id": "f00afa3a",
   "metadata": {},
   "outputs": [],
   "source": [
    "from gensim.parsing.preprocessing import STOPWORDS"
   ]
  },
  {
   "cell_type": "code",
   "execution_count": 13,
   "id": "c61b9c86",
   "metadata": {},
   "outputs": [
    {
     "name": "stdout",
     "output_type": "stream",
     "text": [
      "frozenset({'sincere', 'anything', 'themselves', 'might', 'upon', 'this', 'how', 'one', 'out', 'don', 'almost', 'keep', 'will', 'other', 'three', 'unless', 'always', 'with', 'without', 'also', 'further', 'alone', 'at', 'were', 'moreover', 'hence', 'behind', 'has', 'yet', 'therein', 'around', 'say', 'elsewhere', 'something', 'some', 'becoming', 'amount', 'neither', 'five', 'yourself', 'against', 'de', 'co', 'just', 'my', 'can', 'regarding', 'above', 'even', 'computer', 'where', 'we', 'by', 'itself', 'myself', 'whence', 'inc', 'whether', 'until', 'did', 'eg', 'part', 'detail', 'whenever', 'you', 'noone', 'nobody', 'any', 'became', 'amongst', 'well', 'under', 'hasnt', 'nowhere', 'are', 'being', 'because', 're', 'however', 'before', 'km', 'whither', 'whereas', 'others', 'there', 'as', 'do', 'to', 'naturally', 'thereupon', 'call', 'see', 'bottom', 'anyhow', 'they', 'seeming', 'or', 'though', 'please', 'of', 'becomes', 'least', 'and', 'together', 'find', 'nevertheless', 'cannot', 'them', 'seem', 'bill', 'perhaps', 'go', 'twelve', 'take', 'your', 'con', 'on', 'me', 'latter', 'nine', 'i', 'mill', 'whatever', 'now', 'hereupon', 'four', 'using', 'below', 'forty', 'back', 'mine', 'via', 'may', 'full', 'him', 'she', 'must', 'sometime', 'serious', 'down', 'does', 'towards', 'someone', 'wherein', 'most', 'wherever', 'so', 'thick', 'except', 'off', 'within', 'else', 'onto', 'while', 'about', 'those', 'ie', 'front', 'ltd', 'everywhere', 'what', 'thin', 'none', 'enough', 'next', 'our', 'much', 'doesn', 'between', 'former', 'un', 'all', 'indeed', 'after', 'eleven', 'couldnt', 'otherwise', 'again', 'than', 'twenty', 'then', 'third', 'am', 'quite', 'first', 'seems', 'once', 'should', 'into', 'used', 'per', 'which', 'latterly', 'for', 'empty', 'afterwards', 'who', 'himself', 'herein', 'few', 'thru', 'thence', 'made', 'it', 'anywhere', 'had', 'make', 'namely', 'hundred', 'eight', 'fifty', 'six', 'he', 'somehow', 'toward', 'the', 'ourselves', 'a', 'more', 'several', 'everything', 'still', 'nothing', 'besides', 'company', 'ten', 'meanwhile', 'found', 'its', 'sometimes', 'rather', 'in', 'last', 'whole', 'done', 'since', 'anyway', 'name', 'never', 'hers', 'own', 'across', 'but', 'often', 'among', 'although', 'thereby', 'didn', 'when', 'that', 'beside', 'would', 'beyond', 'give', 'been', 'here', 'many', 'us', 'fifteen', 'whereby', 'whoever', 'same', 'less', 'through', 'hereafter', 'top', 'not', 'their', 'very', 'an', 'system', 'really', 'every', 'too', 'whose', 'kg', 'various', 'put', 'his', 'sixty', 'whom', 'during', 'either', 'yours', 'beforehand', 'fill', 'over', 'doing', 'along', 'why', 'herself', 'ever', 'her', 'only', 'throughout', 'describe', 'fire', 'due', 'two', 'etc', 'yourselves', 'show', 'cry', 'from', 'nor', 'both', 'seemed', 'formerly', 'side', 'already', 'ours', 'if', 'whereafter', 'amoungst', 'mostly', 'move', 'is', 'get', 'thereafter', 'no', 'each', 'could', 'interest', 'hereby', 'somewhere', 'cant', 'everyone', 'up', 'whereupon', 'another', 'have', 'thus', 'these', 'become', 'therefore', 'be', 'such', 'was', 'anyone'})\n"
     ]
    }
   ],
   "source": [
    "all_stopwords_gensim=STOPWORDS.union(set(['naturally','company']))\n",
    "print(all_stopwords_gensim)"
   ]
  },
  {
   "cell_type": "markdown",
   "id": "f3105865",
   "metadata": {},
   "source": [
    "### removing stopwords"
   ]
  },
  {
   "cell_type": "code",
   "execution_count": 14,
   "id": "8677513f",
   "metadata": {},
   "outputs": [
    {
     "name": "stdout",
     "output_type": "stream",
     "text": [
      "frozenset({'sincere', 'anything', 'themselves', 'might', 'this', 'how', 'out', 'keep', 'will', 'other', 'three', 'always', 'with', 'at', 'were', 'moreover', 'therein', 'around', 'elsewhere', 'some', 'becoming', 'neither', 'yourself', 'against', 'de', 'co', 'can', 'we', 'whether', 'detail', 'whenever', 'any', 'hasnt', 'being', 'however', 'before', 'whither', 'whereas', 'as', 'to', 'thereupon', 'call', 'becomes', 'least', 'find', 'nevertheless', 'cannot', 'seem', 'perhaps', 'take', 'con', 'on', 'me', 'latter', 'nine', 'whatever', 'now', 'hereupon', 'using', 'forty', 'back', 'mine', 'via', 'may', 'full', 'him', 'she', 'must', 'sometime', 'serious', 'does', 'wherein', 'wherever', 'so', 'within', 'else', 'while', 'front', 'ltd', 'everywhere', 'thin', 'enough', 'much', 'doesn', 'all', 'indeed', 'again', 'than', 'am', 'seems', 'once', 'should', 'into', 'used', 'which', 'for', 'empty', 'who', 'few', 'thru', 'anywhere', 'had', 'fifty', 'he', 'somehow', 'toward', 'a', 'several', 'still', 'ten', 'found', 'its', 'sometimes', 'rather', 'last', 'done', 'anyway', 'own', 'often', 'didn', 'when', 'that', 'beside', 'would', 'beyond', 'here', 'many', 'whoever', 'same', 'through', 'top', 'not', 'their', 'system', 'really', 'every', 'too', 'whose', 'various', 'sixty', 'yours', 'beforehand', 'doing', 'along', 'why', 'throughout', 'fire', 'two', 'etc', 'show', 'cry', 'formerly', 'ours', 'whereafter', 'mostly', 'move', 'get', 'each', 'could', 'interest', 'hereby', 'cant', 'whereupon', 'thus', 'these', 'become', 'therefore', 'be', 'anyone', 'upon', 'one', 'don', 'almost', 'unless', 'without', 'also', 'further', 'alone', 'hence', 'behind', 'has', 'yet', 'say', 'something', 'amount', 'five', 'just', 'my', 'regarding', 'above', 'even', 'computer', 'where', 'by', 'itself', 'myself', 'whence', 'inc', 'until', 'did', 'eg', 'part', 'you', 'noone', 'nobody', 'became', 'amongst', 'well', 'under', 'nowhere', 'are', 'because', 're', 'km', 'others', 'there', 'do', 'see', 'bottom', 'anyhow', 'they', 'seeming', 'or', 'though', 'please', 'of', 'and', 'together', 'them', 'bill', 'go', 'twelve', 'your', 'i', 'mill', 'four', 'below', 'down', 'towards', 'someone', 'most', 'thick', 'except', 'off', 'onto', 'about', 'those', 'ie', 'what', 'none', 'our', 'between', 'former', 'un', 'after', 'eleven', 'couldnt', 'otherwise', 'twenty', 'then', 'third', 'quite', 'first', 'per', 'latterly', 'afterwards', 'himself', 'herein', 'thence', 'made', 'it', 'make', 'namely', 'hundred', 'eight', 'six', 'the', 'ourselves', 'more', 'everything', 'nothing', 'besides', 'meanwhile', 'in', 'whole', 'since', 'name', 'never', 'hers', 'across', 'but', 'among', 'although', 'thereby', 'give', 'been', 'us', 'fifteen', 'whereby', 'less', 'hereafter', 'very', 'an', 'kg', 'put', 'his', 'whom', 'during', 'either', 'fill', 'over', 'herself', 'ever', 'her', 'only', 'describe', 'due', 'yourselves', 'from', 'nor', 'both', 'seemed', 'side', 'already', 'if', 'amoungst', 'is', 'thereafter', 'no', 'somewhere', 'everyone', 'up', 'another', 'have', 'such', 'was', 'next'})\n"
     ]
    }
   ],
   "source": [
    "all_stopwords_gensim=STOPWORDS\n",
    "print(all_stopwords_gensim)"
   ]
  },
  {
   "cell_type": "code",
   "execution_count": 15,
   "id": "4d26b6a0",
   "metadata": {},
   "outputs": [],
   "source": [
    "all_stopwords_gensim=STOPWORDS.difference('really')"
   ]
  },
  {
   "cell_type": "markdown",
   "id": "7c955177",
   "metadata": {},
   "source": [
    "### apply to the email dataset "
   ]
  },
  {
   "cell_type": "code",
   "execution_count": 16,
   "id": "586f7d6c",
   "metadata": {},
   "outputs": [],
   "source": [
    "from gensim.utils import tokenize"
   ]
  },
  {
   "cell_type": "code",
   "execution_count": 17,
   "id": "274bcc5c",
   "metadata": {},
   "outputs": [
    {
     "name": "stdout",
     "output_type": "stream",
     "text": [
      "['Subject', 'naturally', 's', 'irresistible', 'corporate', 'identity', 'lt', 'hard', 'recollect', 'a', 'company', 'market', 'suqgestions', 'information', 'isoverwhelminq', 'a', 'good', 'catchy', 'logo', 'stylish', 'statlonery', 'outstanding', 'website', 'task', 'easier', 't', 'promise', 'havinq', 'ordered', 'a', 'iogo', 'company', 'automaticaily', 'a', 'world', 'ieader', 'isguite', 'ciear', 'good', 'products', 'effective', 'business', 'organization', 'practicable', 'aim', 'hotat', 'nowadays', 'market', 'promise', 'marketing', 'efforts', 'effective', 'list', 'clear', 'benefits', 'creativeness', 'hand', 'original', 'logos', 'specially', 'reflect', 'distinctive', 'company', 'image', 'convenience', 'logo', 'stationery', 'provided', 'formats', 'easy', 'use', 'content', 'management', 'letsyou', 'change', 'website', 'content', 'structure', 'promptness', 'll', 'logo', 'drafts', 'business', 'days', 'affordability', 'marketing', 'break', 'shouldn', 't', 'gaps', 'budget', 'satisfaction', 'guaranteed', 'provide', 'unlimited', 'changes', 'extra', 'fees', 'surethat', 'love', 'result', 'collaboration', 'a', 'look', 'portfolio', '_', '_', '_', '_', '_', '_', '_', '_', '_', '_', '_', '_', '_', '_', '_', '_', '_', '_', '_', '_', '_', '_', '_', '_', '_', '_', '_', '_', '_', '_', '_', '_', '_', '_', '_', '_', '_', '_', '_', '_', '_', '_', '_', '_', '_', '_', '_', '_', '_', '_', '_', '_', 'interested', '_', '_', '_', '_', '_', '_', '_', '_', '_', '_', '_', '_', '_', '_', '_', '_', '_', '_', '_', '_', '_', '_', '_', '_', '_', '_', '_', '_', '_', '_', '_', '_', '_', '_', '_', '_', '_', '_', '_', '_', '_', '_', '_', '_', '_', '_', '_', '_', '_', '_', '_', '_']\n"
     ]
    }
   ],
   "source": [
    "tokens=list(tokenize(Text))\n",
    "tokens_without_sw = [word for word in tokens if not word in all_stopwords_gensim]\n",
    "print(tokens_without_sw)"
   ]
  },
  {
   "cell_type": "markdown",
   "id": "3cd3c19f",
   "metadata": {},
   "source": [
    "## Stopwords operations using NLTK "
   ]
  },
  {
   "cell_type": "code",
   "execution_count": 18,
   "id": "7becfe87",
   "metadata": {},
   "outputs": [],
   "source": [
    "import nltk\n",
    "from nltk.corpus import stopwords\n",
    "from nltk.tokenize import word_tokenize"
   ]
  },
  {
   "cell_type": "code",
   "execution_count": 19,
   "id": "04fd8e1d",
   "metadata": {},
   "outputs": [
    {
     "name": "stdout",
     "output_type": "stream",
     "text": [
      "{\"mightn't\", 'having', 'once', 'should', 'into', \"didn't\", 'isn', 'which', 'themselves', 'this', 'for', 'how', 'who', 'himself', 'd', 'few', 'mustn', 'out', 'don', 'it', 'other', 'will', \"couldn't\", 'with', 'had', \"should've\", 'further', \"mustn't\", 'at', 'needn', 'were', 'has', 'he', 'couldn', 'the', 'ourselves', 'a', 'more', \"needn't\", 'some', 'yourself', 'my', 'against', 'above', 'just', 'can', \"haven't\", \"you're\", \"she's\", 'where', 'its', 'we', \"shan't\", 'shan', 'won', 'by', 'itself', 'myself', 'in', 'until', \"you've\", 'you', 'did', 'any', 'hers', 'but', 'under', 'own', 'are', 'being', 'didn', 'because', 'when', 'that', 're', \"you'd\", 's', 'before', 'been', 'here', 'there', 'as', 'wasn', 'do', \"wasn't\", 'to', 'same', 'through', 'very', 'not', 'their', 'an', 'y', \"wouldn't\", 'they', 'too', 'or', 'o', 'of', 'm', 'and', 'aren', 'haven', 'his', 'whom', 'during', 't', 'hadn', 'them', \"hadn't\", 'yours', 'ain', 'your', 'over', 'doing', 'why', 'on', 'herself', 'her', \"aren't\", 'only', 'me', 'i', 'now', 'below', 'him', 'she', 'down', 'does', 'yourselves', 'ma', \"isn't\", 'from', \"it's\", 'hasn', \"that'll\", 'nor', 'both', 'most', 'so', 'off', 'while', 'about', 'those', 'ours', 'if', 'what', 'wouldn', \"you'll\", 've', 'our', 'is', 'weren', 'doesn', 'between', \"won't\", 'no', 'each', 'll', 'all', 'shouldn', \"weren't\", 'up', \"don't\", 'mightn', 'have', 'after', 'these', \"doesn't\", 'again', 'than', 'then', \"shouldn't\", \"hasn't\", 'theirs', 'be', 'such', 'was', 'am'}\n"
     ]
    }
   ],
   "source": [
    "stop_words=set(stopwords.words('english'))\n",
    "print(stop_words)"
   ]
  },
  {
   "cell_type": "markdown",
   "id": "b89bc882",
   "metadata": {},
   "source": [
    "## Remove stopwords using NLTK "
   ]
  },
  {
   "cell_type": "code",
   "execution_count": 20,
   "id": "aa6dc8fa",
   "metadata": {},
   "outputs": [
    {
     "name": "stdout",
     "output_type": "stream",
     "text": [
      "{\"mightn't\", 'having', 'once', 'should', 'into', \"didn't\", 'isn', 'which', 'themselves', 'this', 'for', 'how', 'who', 'himself', 'd', 'few', 'mustn', 'out', 'don', 'it', 'other', 'will', \"couldn't\", 'with', 'had', \"should've\", 'further', \"mustn't\", 'at', 'needn', 'were', 'has', 'he', 'couldn', 'the', 'ourselves', 'a', 'more', \"needn't\", 'some', 'yourself', 'my', 'against', 'above', 'just', 'can', \"haven't\", \"you're\", \"she's\", 'where', 'its', 'we', \"shan't\", 'shan', 'won', 'by', 'itself', 'myself', 'in', 'until', \"you've\", 'you', 'did', 'any', 'hers', 'but', 'under', 'own', 'are', 'being', 'didn', 'because', 'when', 'that', 're', \"you'd\", 's', 'before', 'been', 'here', 'there', 'wasn', 'do', \"wasn't\", 'to', 'same', 'through', 'very', 'not', 'their', 'an', 'y', \"wouldn't\", 'they', 'too', 'or', 'o', 'of', 'm', 'and', 'aren', 'haven', 'his', 'whom', 'during', 't', 'hadn', 'them', \"hadn't\", 'yours', 'ain', 'your', 'over', 'doing', 'why', 'on', 'herself', 'her', \"aren't\", 'only', 'me', 'i', 'now', 'below', 'him', 'she', 'down', 'does', 'yourselves', 'ma', \"isn't\", 'from', \"it's\", 'hasn', \"that'll\", 'nor', 'both', 'most', 'so', 'off', 'while', 'about', 'those', 'ours', 'if', 'what', 'wouldn', \"you'll\", 've', 'our', 'is', 'weren', 'doesn', 'between', \"won't\", 'no', 'each', 'll', 'all', 'shouldn', \"weren't\", 'up', \"don't\", 'mightn', 'have', 'after', 'these', \"doesn't\", 'again', 'than', 'then', \"shouldn't\", \"hasn't\", 'theirs', 'be', 'such', 'was', 'am'}\n"
     ]
    }
   ],
   "source": [
    "stop_words.remove('as')\n",
    "print(stop_words)"
   ]
  },
  {
   "cell_type": "markdown",
   "id": "b92c939d",
   "metadata": {},
   "source": [
    "## Add stop words using NLTK "
   ]
  },
  {
   "cell_type": "code",
   "execution_count": 21,
   "id": "ecfcceb5",
   "metadata": {},
   "outputs": [
    {
     "name": "stdout",
     "output_type": "stream",
     "text": [
      "{\"mightn't\", 'having', 'once', 'should', 'into', \"didn't\", 'isn', 'which', 'themselves', 'this', 'for', 'how', 'who', 'himself', 'd', 'few', 'mustn', 'out', 'don', 'it', 'other', 'will', \"couldn't\", 'with', 'had', \"should've\", 'further', \"mustn't\", 'at', 'needn', 'were', 'has', 'he', 'couldn', 'the', 'ourselves', 'a', 'more', \"needn't\", 'some', 'yourself', 'my', 'against', 'above', 'just', 'can', \"haven't\", \"you're\", \"she's\", 'where', 'its', 'we', \"shan't\", 'shan', 'won', 'by', 'itself', 'myself', 'in', 'until', \"you've\", 'you', 'did', 'any', 'hers', 'but', 'under', 'own', 'are', 'being', 'didn', 'because', 'when', 'that', 're', \"you'd\", 's', 'before', 'been', 'here', 'there', 'wasn', 'do', \"wasn't\", 'to', 'same', 'through', 'very', 'not', 'their', 'an', 'y', \"wouldn't\", 'they', 'too', 'or', 'o', 'of', 'm', 'and', 'aren', 'haven', 'his', 'whom', 'during', 't', 'hadn', 'them', \"hadn't\", 'yours', 'ain', 'your', 'over', 'doing', 'why', 'on', 'herself', 'her', \"aren't\", 'only', 'me', 'i', 'now', 'below', 'him', 'she', 'down', 'does', 'yourselves', 'ma', \"isn't\", 'from', \"it's\", 'hasn', \"that'll\", 'nor', 'both', 'most', 'so', 'off', 'while', 'about', 'those', 'ours', 'if', 'Subject:', 'what', 'wouldn', \"you'll\", 've', 'our', 'is', 'weren', 'doesn', 'between', \"won't\", 'no', 'each', 'll', 'all', 'shouldn', \"weren't\", 'up', \"don't\", 'mightn', 'have', 'after', 'these', \"doesn't\", 'again', 'than', 'then', \"shouldn't\", \"hasn't\", 'theirs', 'be', 'such', 'was', 'am'}\n"
     ]
    }
   ],
   "source": [
    "stop_words.add('Subject:')\n",
    "print(stop_words)"
   ]
  },
  {
   "cell_type": "markdown",
   "id": "4e26d396",
   "metadata": {},
   "source": [
    "## Apply to the dataset "
   ]
  },
  {
   "cell_type": "code",
   "execution_count": 22,
   "id": "1e8017cd",
   "metadata": {},
   "outputs": [
    {
     "data": {
      "text/plain": [
       "'Subject: 4 color printing special  request additional information now ! click here  click here for a printable version of our order form ( pdf format )  phone : ( 626 ) 338 - 8090 fax : ( 626 ) 338 - 8102 e - mail : ramsey @ goldengraphix . com  request additional information now ! click here  click here for a printable version of our order form ( pdf format )  golden graphix & printing 5110 azusa canyon rd . irwindale , ca 91706 this e - mail message is an advertisement and / or solicitation of games54 and Game5S4 . '"
      ]
     },
     "execution_count": 22,
     "metadata": {},
     "output_type": "execute_result"
    }
   ],
   "source": [
    "Text=data['text'][3]\n",
    "Text"
   ]
  },
  {
   "cell_type": "code",
   "execution_count": 23,
   "id": "c72489e0",
   "metadata": {},
   "outputs": [
    {
     "data": {
      "text/plain": [
       "'4 color printing special request additional information ! click click printable version order form ( pdf format ) phone : ( 626 ) 338 - 8090 fax : ( 626 ) 338 - 8102 e - mail : ramsey @ goldengraphix . com request additional information ! click click printable version order form ( pdf format ) golden graphix & printing 5110 azusa canyon rd . irwindale , ca 91706 e - mail message advertisement / solicitation games54 Game5S4 .'"
      ]
     },
     "execution_count": 23,
     "metadata": {},
     "output_type": "execute_result"
    }
   ],
   "source": [
    "def remove_stopwords(text):\n",
    "    return \" \".join([word for word in str(text).split() if word not in stop_words])\n",
    "data['text']= data['text'].apply(lambda x: remove_stopwords(x))\n",
    "data['text'][3]"
   ]
  },
  {
   "cell_type": "code",
   "execution_count": null,
   "id": "a661ce96",
   "metadata": {},
   "outputs": [],
   "source": []
  }
 ],
 "metadata": {
  "kernelspec": {
   "display_name": "Python 3 (ipykernel)",
   "language": "python",
   "name": "python3"
  },
  "language_info": {
   "codemirror_mode": {
    "name": "ipython",
    "version": 3
   },
   "file_extension": ".py",
   "mimetype": "text/x-python",
   "name": "python",
   "nbconvert_exporter": "python",
   "pygments_lexer": "ipython3",
   "version": "3.10.12"
  }
 },
 "nbformat": 4,
 "nbformat_minor": 5
}
