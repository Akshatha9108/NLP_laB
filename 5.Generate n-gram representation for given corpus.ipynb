{
 "cells": [
  {
   "cell_type": "markdown",
   "id": "ebca4915",
   "metadata": {},
   "source": [
    "## 5.Generate n-gram representation for given corpus and perform following operations on           the corpus:\n",
    "\n",
    "### a.preprocess the corpus for n-grams representation\n",
    "### b.display all tokens,distinct tokens and frequency if tokens in thr corpus\n",
    "### c.Bi-gram and frequency representation using defiend functions\n",
    "### d.Tri-gram and frequency represejtation using  user defined functions"
   ]
  },
  {
   "cell_type": "code",
   "execution_count": 1,
   "id": "14eaecfb",
   "metadata": {},
   "outputs": [
    {
     "name": "stderr",
     "output_type": "stream",
     "text": [
      "/usr/lib/python3/dist-packages/scipy/__init__.py:146: UserWarning: A NumPy version >=1.17.3 and <1.25.0 is required for this version of SciPy (detected version 1.26.3\n",
      "  warnings.warn(f\"A NumPy version >={np_minversion} and <{np_maxversion}\"\n"
     ]
    }
   ],
   "source": [
    "import nltk"
   ]
  },
  {
   "cell_type": "code",
   "execution_count": 2,
   "id": "ac34bb40",
   "metadata": {},
   "outputs": [
    {
     "name": "stdout",
     "output_type": "stream",
     "text": [
      "The Arabian knights.These are the fairy tales of the east.The stories of the Arabian knights are translated in many languages\n"
     ]
    }
   ],
   "source": [
    "with open(\"NGRAM.txt\")as f:\n",
    "    corpus=f.readline()\n",
    "print(corpus)\n",
    "#f = open('ngram.txt')\n",
    "#corpus=f.read()\n",
    "#print(corpus)"
   ]
  },
  {
   "cell_type": "markdown",
   "id": "376415de",
   "metadata": {},
   "source": [
    "# 2.Preprocessing"
   ]
  },
  {
   "cell_type": "code",
   "execution_count": 3,
   "id": "581c58c5",
   "metadata": {},
   "outputs": [
    {
     "name": "stdout",
     "output_type": "stream",
     "text": [
      "preprocessed Data corpus=\n",
      " eos the arabian knightseosthese are the fairy tales of the easteosthe stories of the arabian knights are translated in many languages\n"
     ]
    }
   ],
   "source": [
    "corpus=corpus.lower()\n",
    "corpus=\"eos \"+corpus\n",
    "corpus=corpus.replace(\".\",\"eos\")\n",
    "print(\"preprocessed Data corpus=\\n\",corpus)"
   ]
  },
  {
   "cell_type": "code",
   "execution_count": 8,
   "id": "a7188f12",
   "metadata": {},
   "outputs": [
    {
     "name": "stdout",
     "output_type": "stream",
     "text": [
      "Totsl tokens in the corpus: ['eos', 'the', 'arabian', 'knightseosthese', 'are', 'the', 'fairy', 'tales', 'of', 'the', 'easteosthe', 'stories', 'of', 'the', 'arabian', 'knights', 'are', 'translated', 'in', 'many', 'languages']\n",
      "Distinct tokens in the corpus: {'languages', 'are', 'knightseosthese', 'of', 'fairy', 'stories', 'many', 'eos', 'tales', 'easteosthe', 'the', 'knights', 'in', 'translated', 'arabian'}\n"
     ]
    }
   ],
   "source": [
    "from nltk.tokenize import word_tokenize\n",
    "token=word_tokenize(corpus)\n",
    "print('Totsl tokens in the corpus:',token)\n",
    "print('Distinct tokens in the corpus:',set(token))"
   ]
  },
  {
   "cell_type": "code",
   "execution_count": 9,
   "id": "8e944ee9",
   "metadata": {},
   "outputs": [
    {
     "name": "stdout",
     "output_type": "stream",
     "text": [
      "Frequecy of each tokens=  {'eos': 1, 'the': 4, 'arabian': 2, 'knightseosthese': 1, 'are': 2, 'fairy': 1, 'tales': 1, 'of': 2, 'easteosthe': 1, 'stories': 1, 'knights': 1, 'translated': 1, 'in': 1, 'many': 1, 'languages': 1}\n"
     ]
    }
   ],
   "source": [
    "dct={}\n",
    "for i in token:\n",
    "    dct[i]=0\n",
    "for i in token:\n",
    "    dct[i]+=1\n",
    "print(\"Frequecy of each tokens= \",dct)    "
   ]
  },
  {
   "cell_type": "markdown",
   "id": "2c7cd10a",
   "metadata": {},
   "source": [
    "\n",
    "# 4.Generate n-grams (bi-grams)/trigrams and Frequencies"
   ]
  },
  {
   "cell_type": "code",
   "execution_count": 13,
   "id": "b4c6c358",
   "metadata": {},
   "outputs": [],
   "source": [
    "def ngram(k):\n",
    "    l=[]\n",
    "    for i in range(len(token)):\n",
    "        l.append(token[i:i+k])\n",
    "    l=l[:-1]\n",
    "    \n",
    "#ngram freq\n",
    "    dct={}\n",
    "    l=[\"\".join(i)for i in l]\n",
    "    for i in l:\n",
    "        dct[i]=0\n",
    "    for i in l:\n",
    "        dct[i]+=1\n",
    "    return dct    "
   ]
  },
  {
   "cell_type": "code",
   "execution_count": 14,
   "id": "51d3b46d",
   "metadata": {},
   "outputs": [
    {
     "name": "stdout",
     "output_type": "stream",
     "text": [
      "{'eosthe': 1, 'thearabian': 2, 'arabianknightseosthese': 1, 'knightseostheseare': 1, 'arethe': 1, 'thefairy': 1, 'fairytales': 1, 'talesof': 1, 'ofthe': 2, 'theeasteosthe': 1, 'easteosthestories': 1, 'storiesof': 1, 'arabianknights': 1, 'knightsare': 1, 'aretranslated': 1, 'translatedin': 1, 'inmany': 1, 'manylanguages': 1}\n"
     ]
    }
   ],
   "source": [
    "print(ngram(2))"
   ]
  },
  {
   "cell_type": "code",
   "execution_count": 15,
   "id": "f47b2b3b",
   "metadata": {},
   "outputs": [
    {
     "name": "stdout",
     "output_type": "stream",
     "text": [
      "{'eosthearabian': 1, 'thearabianknightseosthese': 1, 'arabianknightseostheseare': 1, 'knightseosthesearethe': 1, 'arethefairy': 1, 'thefairytales': 1, 'fairytalesof': 1, 'talesofthe': 1, 'oftheeasteosthe': 1, 'theeasteosthestories': 1, 'easteosthestoriesof': 1, 'storiesofthe': 1, 'ofthearabian': 1, 'thearabianknights': 1, 'arabianknightsare': 1, 'knightsaretranslated': 1, 'aretranslatedin': 1, 'translatedinmany': 1, 'inmanylanguages': 1, 'manylanguages': 1}\n"
     ]
    }
   ],
   "source": [
    "print(ngram(3))"
   ]
  },
  {
   "cell_type": "code",
   "execution_count": null,
   "id": "aa68fbfe",
   "metadata": {},
   "outputs": [],
   "source": []
  }
 ],
 "metadata": {
  "kernelspec": {
   "display_name": "Python 3 (ipykernel)",
   "language": "python",
   "name": "python3"
  },
  "language_info": {
   "codemirror_mode": {
    "name": "ipython",
    "version": 3
   },
   "file_extension": ".py",
   "mimetype": "text/x-python",
   "name": "python",
   "nbconvert_exporter": "python",
   "pygments_lexer": "ipython3",
   "version": "3.10.12"
  }
 },
 "nbformat": 4,
 "nbformat_minor": 5
}
